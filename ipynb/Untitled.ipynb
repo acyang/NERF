{
 "cells": [
  {
   "cell_type": "code",
   "execution_count": 9,
   "metadata": {},
   "outputs": [],
   "source": [
    "import os\n",
    "import time \n",
    "import numpy as np\n",
    "from scipy import signal\n",
    "import pandas as pd\n",
    "import seaborn as sb\n",
    "import h5py\n",
    "import matplotlib.pyplot as plt\n",
    "import matplotlib.gridspec as gridspec\n",
    "import itertools as it\n",
    "import random"
   ]
  },
  {
   "cell_type": "code",
   "execution_count": 27,
   "metadata": {},
   "outputs": [
    {
     "name": "stdout",
     "output_type": "stream",
     "text": [
      "15\n",
      "14\n",
      "15\n",
      "14\n",
      "3.872983346207417\n",
      "3.7416573867739413\n"
     ]
    }
   ],
   "source": [
    "x=np.array([-3, 2, -1, 1])\n",
    "y=np.array([-1, 0, -3, 2])\n",
    "print(np.dot(x,x))\n",
    "print(np.dot(y,y))\n",
    "print(np.inner(x,x))\n",
    "print(np.inner(y,y))\n",
    "print(np.linalg.norm(x))\n",
    "print(np.linalg.norm(y))"
   ]
  },
  {
   "cell_type": "code",
   "execution_count": 28,
   "metadata": {},
   "outputs": [
    {
     "name": "stdout",
     "output_type": "stream",
     "text": [
      "[-0.41403934  0.89708523 -0.55205245  0.55205245 -0.34503278  0.06900656\n",
      " -0.06900656]\n"
     ]
    },
    {
     "name": "stderr",
     "output_type": "stream",
     "text": [
      "/home/acyang/miniconda3/envs/intelpython/lib/python3.6/site-packages/scipy/signal/signaltools.py:491: FutureWarning: Using a non-tuple sequence for multidimensional indexing is deprecated; use `arr[tuple(seq)]` instead of `arr[seq]`. In the future this will be interpreted as an array index, `arr[np.array(seq)]`, which will result either in an error or a different result.\n",
      "  return x[reverse].conj()\n"
     ]
    }
   ],
   "source": [
    "corr = signal.correlate(x, y, mode='full') / (np.linalg.norm(x)*np.linalg.norm(y))\n",
    "print(corr)"
   ]
  },
  {
   "cell_type": "code",
   "execution_count": 19,
   "metadata": {},
   "outputs": [
    {
     "name": "stdout",
     "output_type": "stream",
     "text": [
      "[ 0.54161861 -0.6015931   0.92973479 -0.82681063         nan         nan\n",
      "         nan]\n"
     ]
    }
   ],
   "source": [
    "corrmat=np.zeros(shape=7, dtype=np.float64)\n",
    "for t in list(range(7)):\n",
    "    sig1=pd.Series(x)\n",
    "    sig2=pd.Series(y)\n",
    "    corrmat[t]=sig1.corr(sig2.shift(periods=-t).fillna(0.), method=\"pearson\")\n",
    "    \n",
    "print(corrmat)"
   ]
  },
  {
   "cell_type": "code",
   "execution_count": null,
   "metadata": {},
   "outputs": [],
   "source": []
  }
 ],
 "metadata": {
  "kernelspec": {
   "display_name": "Python 3",
   "language": "python",
   "name": "python3"
  },
  "language_info": {
   "codemirror_mode": {
    "name": "ipython",
    "version": 3
   },
   "file_extension": ".py",
   "mimetype": "text/x-python",
   "name": "python",
   "nbconvert_exporter": "python",
   "pygments_lexer": "ipython3",
   "version": "3.6.8"
  }
 },
 "nbformat": 4,
 "nbformat_minor": 2
}
